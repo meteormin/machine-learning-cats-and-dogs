{
 "cells": [
  {
   "cell_type": "markdown",
   "metadata": {
    "collapsed": true,
    "pycharm": {
     "name": "#%% md\n"
    }
   },
   "source": [
    "# CNN: Cats And Dogs\n",
    "\n",
    "## Data Sets\n",
    "\n",
    "> directory structure\n",
    "```\n",
    "./cats_and_dogs\n",
    "├─test_set\n",
    "│  ├─cats\n",
    "│  │  └─cat.{id}.jpg ...\n",
    "│  └─dogs\n",
    "│     └─dog.{id}.jpg ...\n",
    "├─training_set\n",
    "│  ├─cats\n",
    "│  │  └─cat.{id}.jpg ...\n",
    "│  └─dogs\n",
    "│     └─dog.{id}.jpg ...\n",
    "└─validation_set\n",
    "   ├─cats\n",
    "   │  └─cat.{id}.jpg ...\n",
    "   └─dogs\n",
    "      └─dog.{id}.jpg ...\n",
    "```"
   ]
  },
  {
   "cell_type": "markdown",
   "metadata": {
    "pycharm": {
     "name": "#%% md\n"
    }
   },
   "source": [
    "## Load Data Sets, Data Argumentation"
   ]
  },
  {
   "cell_type": "code",
   "execution_count": 1,
   "metadata": {
    "pycharm": {
     "name": "#%%\n"
    }
   },
   "outputs": [
    {
     "name": "stdout",
     "output_type": "stream",
     "text": [
      "Found 7205 images belonging to 2 classes.\n",
      "Found 800 images belonging to 2 classes.\n",
      "Found 2023 images belonging to 2 classes.\n"
     ]
    }
   ],
   "source": [
    "import os\n",
    "from tensorflow.keras.preprocessing.image import ImageDataGenerator\n",
    "from tensorflow.python.keras.preprocessing.image import DirectoryIterator\n",
    "\n",
    "DATA_DIR = 'cats_and_dogs'\n",
    "\n",
    "train_dir = os.path.join(DATA_DIR, 'training_set')\n",
    "valid_dir = os.path.join(DATA_DIR, 'validation_set')\n",
    "test_dir = os.path.join(DATA_DIR, 'test_set')\n",
    "\n",
    "# image generate for Data Argumentation\n",
    "img_generator = ImageDataGenerator(\n",
    "    rescale=1. / 255,\n",
    "    rotation_range=20,\n",
    "    width_shift_range=0.1,\n",
    "    height_shift_range=0.1,\n",
    "    brightness_range=[.2, .2],\n",
    "    horizontal_flip=True,\n",
    "    validation_split=.1\n",
    ")\n",
    "\n",
    "# Generate train data\n",
    "train_set: DirectoryIterator = img_generator.flow_from_directory(\n",
    "    train_dir,\n",
    "    target_size=(128, 128),\n",
    "    subset='training'\n",
    ")\n",
    "\n",
    "# Generate validation data\n",
    "valid_set: DirectoryIterator = img_generator.flow_from_directory(\n",
    "    valid_dir,\n",
    "    target_size=(128, 128),\n",
    "    subset='validation'\n",
    ")\n",
    "\n",
    "# Generate test data\n",
    "# raw image\n",
    "test_generator = ImageDataGenerator(\n",
    "    rescale=1. / 255\n",
    ")\n",
    "\n",
    "test_set: DirectoryIterator = test_generator.flow_from_directory(\n",
    "    test_dir,\n",
    "    target_size=(128, 128)\n",
    ")"
   ]
  },
  {
   "cell_type": "markdown",
   "metadata": {
    "pycharm": {
     "name": "#%% md\n"
    }
   },
   "source": [
    "### Image Generator Parameter\n",
    "- `rescale` use for normalization, generated raw image data divide to 255.\n",
    "- `rotation_range` is rotated image to maximum 20 degree.\n",
    "- `brightness_range` is about brightness.\n",
    "- `horizontal_flip` is flips the image horizontally.\n",
    "- `validation_split` specifies the percentage of validation set.\n",
    "\n",
    "**flow_from_directory**\n",
    "- first parameter is data directory\n",
    "- target_size is image size(maybe pixel?)\n",
    "- subset is just labeling"
   ]
  },
  {
   "cell_type": "markdown",
   "metadata": {
    "pycharm": {
     "name": "#%% md\n"
    }
   },
   "source": [
    "## Configuration of CNN Model"
   ]
  },
  {
   "cell_type": "code",
   "execution_count": 2,
   "metadata": {
    "pycharm": {
     "name": "#%%\n"
    }
   },
   "outputs": [],
   "source": [
    "from tensorflow.keras.models import Sequential\n",
    "from tensorflow.keras import layers\n",
    "\n",
    "\n",
    "def config_model(model: Sequential, dropout: float = 0.3) -> Sequential:\n",
    "    # input layer + convolution layer\n",
    "    model.add(layers.Conv2D(32, (3, 3), activation='relu', input_shape=(128, 128, 3)))\n",
    "    # tf.keras.layers.Dropout(0.3),\n",
    "    model.add(layers.MaxPooling2D(2, 2))\n",
    "    model.add(layers.BatchNormalization())\n",
    "\n",
    "    model.add(layers.Conv2D(64, (3, 3), activation='relu'))\n",
    "    # tf.keras.layers.Dropout(0.3),\n",
    "    model.add(layers.MaxPooling2D(2, 2))\n",
    "    model.add(layers.BatchNormalization())\n",
    "\n",
    "    model.add(layers.Conv2D(128, (3, 3), activation='relu'))\n",
    "    # model.add(layers.Dropout(0.3))\n",
    "    model.add(layers.MaxPooling2D(2, 2))\n",
    "    model.add(layers.BatchNormalization())\n",
    "\n",
    "    model.add(layers.Conv2D(128, (3, 3), activation='relu'))\n",
    "    # model.add(layers.Dropout(0.3))\n",
    "    model.add(layers.MaxPooling2D(2, 2))\n",
    "    model.add(layers.BatchNormalization())\n",
    "\n",
    "    # Flatten the results to feed into a DNN\n",
    "    model.add(layers.Flatten())\n",
    "    # 512 neuron hidden layer\n",
    "    model.add(layers.Dense(512, activation='relu'))\n",
    "    model.add(layers.Dropout(dropout))\n",
    "    # 2 output\n",
    "    model.add(layers.Dense(2, activation='sigmoid'))\n",
    "\n",
    "    model.summary()\n",
    "\n",
    "    return model"
   ]
  },
  {
   "cell_type": "code",
   "execution_count": 3,
   "metadata": {
    "pycharm": {
     "name": "#%%\n"
    }
   },
   "outputs": [
    {
     "data": {
      "text/plain": [
       "7205"
      ]
     },
     "execution_count": 3,
     "metadata": {},
     "output_type": "execute_result"
    }
   ],
   "source": [
    "# check train samples\n",
    "train_set.samples"
   ]
  },
  {
   "cell_type": "markdown",
   "metadata": {
    "pycharm": {
     "name": "#%% md\n"
    }
   },
   "source": [
    "### Model Compile"
   ]
  },
  {
   "cell_type": "code",
   "execution_count": 4,
   "metadata": {
    "pycharm": {
     "name": "#%%\n"
    }
   },
   "outputs": [],
   "source": [
    "from tensorflow.keras.optimizers import RMSprop\n",
    "\n",
    "\n",
    "def compile_model(model: Sequential, learning_rate: float = 0.1) -> Sequential:\n",
    "    model.compile(\n",
    "        optimizer=RMSprop(learning_rate=learning_rate),\n",
    "        loss='binary_crossentropy',\n",
    "        metrics=['acc']\n",
    "    )\n",
    "\n",
    "    return model"
   ]
  },
  {
   "cell_type": "markdown",
   "metadata": {
    "pycharm": {
     "name": "#%% md\n"
    }
   },
   "source": [
    "## Training"
   ]
  },
  {
   "cell_type": "code",
   "execution_count": 5,
   "metadata": {
    "pycharm": {
     "name": "#%%\n"
    }
   },
   "outputs": [],
   "source": [
    "from tensorflow.python.keras.callbacks import History\n",
    "\n",
    "\n",
    "def train(model: Sequential, train_data: DirectoryIterator, valid_data: DirectoryIterator, epochs: int = 1) -> History:\n",
    "    history = model.fit(\n",
    "        train_data,\n",
    "        epochs=epochs,\n",
    "        validation_data=valid_data,\n",
    "        verbose=1\n",
    "    )\n",
    "\n",
    "    return history"
   ]
  },
  {
   "cell_type": "markdown",
   "metadata": {
    "pycharm": {
     "name": "#%% md\n"
    }
   },
   "source": [
    "## Show Train Result"
   ]
  },
  {
   "cell_type": "code",
   "execution_count": 6,
   "metadata": {
    "pycharm": {
     "name": "#%%\n"
    }
   },
   "outputs": [],
   "source": [
    "import matplotlib.pyplot as plt\n",
    "\n",
    "\n",
    "def show_plot(history: History):\n",
    "    acc = history.history['acc']\n",
    "    val_acc = history.history['val_acc']\n",
    "    loss = history.history['loss']\n",
    "    val_loss = history.history['val_loss']\n",
    "\n",
    "    epochs = range(len(acc))\n",
    "\n",
    "    plt.plot(epochs, acc, label='train')\n",
    "    plt.plot(epochs, val_acc, label='valid')\n",
    "    plt.title('Training and validation accuracy')\n",
    "    plt.xlabel('Epochs')\n",
    "    plt.ylabel('Accuracy')\n",
    "    plt.legend(loc='upper left')\n",
    "    plt.figure()\n",
    "\n",
    "    plt.plot(epochs, loss, 'bo', label='train')\n",
    "    plt.plot(epochs, val_loss, 'b', label='valid')\n",
    "    plt.title('Training and validation loss')\n",
    "    plt.xlabel('Epochs')\n",
    "    plt.ylabel('Loss')\n",
    "    plt.legend(loc='upper left')\n"
   ]
  },
  {
   "cell_type": "markdown",
   "metadata": {
    "pycharm": {
     "name": "#%% md\n"
    }
   },
   "source": [
    "## Evaluate the model"
   ]
  },
  {
   "cell_type": "code",
   "execution_count": 7,
   "metadata": {
    "pycharm": {
     "name": "#%%\n"
    }
   },
   "outputs": [],
   "source": [
    "def evaluate_model(model: Sequential, test_data: DirectoryIterator):\n",
    "    evaluate = model.evaluate(test_data)\n",
    "    print('loss: {}, acc: {}'.format(*evaluate))\n",
    "    return evaluate"
   ]
  },
  {
   "cell_type": "markdown",
   "metadata": {
    "pycharm": {
     "name": "#%% md\n"
    }
   },
   "source": [
    "## Predict the model\n",
    "print first predict"
   ]
  },
  {
   "cell_type": "code",
   "execution_count": 8,
   "metadata": {
    "pycharm": {
     "name": "#%%\n"
    }
   },
   "outputs": [],
   "source": [
    "from tensorflow.keras.preprocessing.image import array_to_img\n",
    "import numpy as np\n",
    "\n",
    "\n",
    "# print first image\n",
    "def predict_model(model: Sequential, test_data: DirectoryIterator):\n",
    "    label = ['cat', 'dog']\n",
    "    images = test_data.next()\n",
    "    arr = images[0][0]\n",
    "    img = array_to_img(arr).resize((128, 128))\n",
    "    plt.imshow(img)\n",
    "    result = model.predict(arr.reshape(1, 128, 128, 3))\n",
    "    print('predict: {}'.format(label[result[0]]))\n",
    "    print('true: {}'.format(label[np.argmax(images[1][0])]))"
   ]
  },
  {
   "cell_type": "markdown",
   "metadata": {
    "pycharm": {
     "name": "#%% md\n"
    }
   },
   "source": [
    "## Script\n",
    "\n",
    "### Setting Model Parameter\n",
    "> Currently, the best performing parameters"
   ]
  },
  {
   "cell_type": "code",
   "execution_count": 11,
   "metadata": {
    "pycharm": {
     "name": "#%%\n"
    }
   },
   "outputs": [],
   "source": [
    "dropout = 0.3\n",
    "learning_rate = 0.0007\n",
    "epoch = 30"
   ]
  },
  {
   "cell_type": "markdown",
   "metadata": {},
   "source": [
    "### Run Script"
   ]
  },
  {
   "cell_type": "code",
   "execution_count": null,
   "metadata": {
    "pycharm": {
     "name": "#%%\n"
    },
    "scrolled": true
   },
   "outputs": [
    {
     "name": "stdout",
     "output_type": "stream",
     "text": [
      "--------------------------------------------------\n",
      "SEQ  1\n",
      "dropout:  0.3\n",
      "learning_rate:  0.0001\n",
      "epoch:  2\n",
      "Model: \"sequential\"\n",
      "_________________________________________________________________\n",
      "Layer (type)                 Output Shape              Param #   \n",
      "=================================================================\n",
      "conv2d (Conv2D)              (None, 64, 64, 16)        448       \n",
      "_________________________________________________________________\n",
      "max_pooling2d (MaxPooling2D) (None, 32, 32, 16)        0         \n",
      "_________________________________________________________________\n",
      "dropout (Dropout)            (None, 32, 32, 16)        0         \n",
      "_________________________________________________________________\n",
      "conv2d_1 (Conv2D)            (None, 32, 32, 32)        4640      \n",
      "_________________________________________________________________\n",
      "max_pooling2d_1 (MaxPooling2 (None, 16, 16, 32)        0         \n",
      "_________________________________________________________________\n",
      "dropout_1 (Dropout)          (None, 16, 16, 32)        0         \n",
      "_________________________________________________________________\n",
      "conv2d_2 (Conv2D)            (None, 16, 16, 64)        18496     \n",
      "_________________________________________________________________\n",
      "max_pooling2d_2 (MaxPooling2 (None, 8, 8, 64)          0         \n",
      "_________________________________________________________________\n",
      "dropout_2 (Dropout)          (None, 8, 8, 64)          0         \n",
      "_________________________________________________________________\n",
      "flatten (Flatten)            (None, 4096)              0         \n",
      "_________________________________________________________________\n",
      "dense (Dense)                (None, 512)               2097664   \n",
      "_________________________________________________________________\n",
      "dense_1 (Dense)              (None, 256)               131328    \n",
      "_________________________________________________________________\n",
      "dense_2 (Dense)              (None, 2)                 514       \n",
      "=================================================================\n",
      "Total params: 2,253,090\n",
      "Trainable params: 2,253,090\n",
      "Non-trainable params: 0\n",
      "_________________________________________________________________\n"
     ]
    }
   ],
   "source": [
    "def run(dr: float, lr: float, ep: int):\n",
    "    model = config_model(model=Sequential(), dropout=dr)\n",
    "    model = compile_model(model, learning_rate=lr)\n",
    "    history = train(model, train_data=train_set, valid_data=valid_set, epochs=ep)\n",
    "    show_plot(history)\n",
    "    evaluate_model(model, test_data=test_set)\n",
    "    predict_model(model, test_data=test_set)\n",
    "\n",
    "\n",
    "run(dropout, learning_rate, epoch)\n",
    "\n"
   ]
  }
 ],
 "metadata": {
  "kernelspec": {
   "display_name": "Python 3 (ipykernel)",
   "language": "python",
   "name": "python3"
  },
  "language_info": {
   "codemirror_mode": {
    "name": "ipython",
    "version": 3
   },
   "file_extension": ".py",
   "mimetype": "text/x-python",
   "name": "python",
   "nbconvert_exporter": "python",
   "pygments_lexer": "ipython3",
   "version": "3.8.8"
  }
 },
 "nbformat": 4,
 "nbformat_minor": 1
}